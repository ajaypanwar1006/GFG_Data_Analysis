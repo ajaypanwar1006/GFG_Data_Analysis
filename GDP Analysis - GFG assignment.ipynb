{
 "cells": [
  {
   "cell_type": "code",
   "execution_count": 4,
   "id": "716d419a",
   "metadata": {},
   "outputs": [
    {
     "name": "stdout",
     "output_type": "stream",
     "text": [
      "Requirement already satisfied: pandas in c:\\users\\priya\\appdata\\local\\programs\\python\\python313\\lib\\site-packages (2.3.1)\n",
      "Requirement already satisfied: numpy>=1.26.0 in c:\\users\\priya\\appdata\\local\\programs\\python\\python313\\lib\\site-packages (from pandas) (2.3.1)\n",
      "Requirement already satisfied: python-dateutil>=2.8.2 in c:\\users\\priya\\appdata\\roaming\\python\\python313\\site-packages (from pandas) (2.9.0.post0)\n",
      "Requirement already satisfied: pytz>=2020.1 in c:\\users\\priya\\appdata\\local\\programs\\python\\python313\\lib\\site-packages (from pandas) (2025.2)\n",
      "Requirement already satisfied: tzdata>=2022.7 in c:\\users\\priya\\appdata\\local\\programs\\python\\python313\\lib\\site-packages (from pandas) (2025.2)\n",
      "Requirement already satisfied: six>=1.5 in c:\\users\\priya\\appdata\\roaming\\python\\python313\\site-packages (from python-dateutil>=2.8.2->pandas) (1.17.0)\n"
     ]
    },
    {
     "name": "stderr",
     "output_type": "stream",
     "text": [
      "\n",
      "[notice] A new release of pip is available: 25.0.1 -> 25.1.1\n",
      "[notice] To update, run: python.exe -m pip install --upgrade pip\n"
     ]
    },
    {
     "data": {
      "text/html": [
       "<div>\n",
       "<style scoped>\n",
       "    .dataframe tbody tr th:only-of-type {\n",
       "        vertical-align: middle;\n",
       "    }\n",
       "\n",
       "    .dataframe tbody tr th {\n",
       "        vertical-align: top;\n",
       "    }\n",
       "\n",
       "    .dataframe thead th {\n",
       "        text-align: right;\n",
       "    }\n",
       "</style>\n",
       "<table border=\"1\" class=\"dataframe\">\n",
       "  <thead>\n",
       "    <tr style=\"text-align: right;\">\n",
       "      <th></th>\n",
       "      <th>Country Name</th>\n",
       "      <th>Country Code</th>\n",
       "      <th>Year</th>\n",
       "      <th>Value</th>\n",
       "    </tr>\n",
       "  </thead>\n",
       "  <tbody>\n",
       "    <tr>\n",
       "      <th>0</th>\n",
       "      <td>Arab World</td>\n",
       "      <td>ARB</td>\n",
       "      <td>1968</td>\n",
       "      <td>2.576068e+10</td>\n",
       "    </tr>\n",
       "    <tr>\n",
       "      <th>1</th>\n",
       "      <td>Arab World</td>\n",
       "      <td>ARB</td>\n",
       "      <td>1969</td>\n",
       "      <td>2.843420e+10</td>\n",
       "    </tr>\n",
       "    <tr>\n",
       "      <th>2</th>\n",
       "      <td>Arab World</td>\n",
       "      <td>ARB</td>\n",
       "      <td>1970</td>\n",
       "      <td>3.138550e+10</td>\n",
       "    </tr>\n",
       "    <tr>\n",
       "      <th>3</th>\n",
       "      <td>Arab World</td>\n",
       "      <td>ARB</td>\n",
       "      <td>1971</td>\n",
       "      <td>3.642691e+10</td>\n",
       "    </tr>\n",
       "    <tr>\n",
       "      <th>4</th>\n",
       "      <td>Arab World</td>\n",
       "      <td>ARB</td>\n",
       "      <td>1972</td>\n",
       "      <td>4.331606e+10</td>\n",
       "    </tr>\n",
       "  </tbody>\n",
       "</table>\n",
       "</div>"
      ],
      "text/plain": [
       "  Country Name Country Code  Year         Value\n",
       "0   Arab World          ARB  1968  2.576068e+10\n",
       "1   Arab World          ARB  1969  2.843420e+10\n",
       "2   Arab World          ARB  1970  3.138550e+10\n",
       "3   Arab World          ARB  1971  3.642691e+10\n",
       "4   Arab World          ARB  1972  4.331606e+10"
      ]
     },
     "execution_count": 4,
     "metadata": {},
     "output_type": "execute_result"
    }
   ],
   "source": [
    "!pip install pandas\n",
    "\n",
    "import pandas as pd\n",
    "\n",
    "df = pd.read_csv('gdp.csv')\n",
    "df.head()"
   ]
  },
  {
   "cell_type": "markdown",
   "id": "158f5de4",
   "metadata": {},
   "source": [
    "## 1) How many unique Countries Data we're having in the dataset?"
   ]
  },
  {
   "cell_type": "code",
   "execution_count": 7,
   "id": "deb06683",
   "metadata": {},
   "outputs": [
    {
     "data": {
      "text/plain": [
       "256"
      ]
     },
     "execution_count": 7,
     "metadata": {},
     "output_type": "execute_result"
    }
   ],
   "source": [
    "df['Country Name'].nunique()"
   ]
  },
  {
   "cell_type": "markdown",
   "id": "71c4c9b6",
   "metadata": {},
   "source": [
    "## 2) How many years of Data we're having for India"
   ]
  },
  {
   "cell_type": "code",
   "execution_count": 14,
   "id": "679f2edb",
   "metadata": {},
   "outputs": [
    {
     "data": {
      "text/plain": [
       "Country Name     1\n",
       "Country Code     1\n",
       "Year            57\n",
       "Value           57\n",
       "dtype: int64"
      ]
     },
     "execution_count": 14,
     "metadata": {},
     "output_type": "execute_result"
    }
   ],
   "source": [
    "df[df [ 'Country Name']== 'India'].nunique()"
   ]
  },
  {
   "cell_type": "markdown",
   "id": "b7023ae4",
   "metadata": {},
   "source": [
    "## 3) Whats the world GDP in 1969?"
   ]
  },
  {
   "cell_type": "code",
   "execution_count": null,
   "id": "41f5ba6a",
   "metadata": {},
   "outputs": [
    {
     "name": "stdout",
     "output_type": "stream",
     "text": [
      "World GDP in 1969: 1.96e+13\n"
     ]
    }
   ],
   "source": [
    "\n",
    "gdp_1969 = df[df['Year'] == 1969]\n",
    "\n",
    "\n",
    "world_gdp_1969 = gdp_1969['Value'].sum()\n",
    "\n",
    "print(f\"World GDP in 1969: {world_gdp_1969:.2e}\")\n"
   ]
  },
  {
   "cell_type": "markdown",
   "id": "c7f00c6a",
   "metadata": {},
   "source": [
    "## 4) Whats the % of GDP growth of India in Year 1994 (*as compare to 1993)?"
   ]
  },
  {
   "cell_type": "code",
   "execution_count": 20,
   "id": "8770deb7",
   "metadata": {},
   "outputs": [
    {
     "name": "stdout",
     "output_type": "stream",
     "text": [
      "GDP Growth of India in 1994 compared to 1993: 17.18%\n"
     ]
    }
   ],
   "source": [
    "# Filter GDP values for India in 1993 and 1994\n",
    "gdp_1993 = df[(df['Country Name'] == 'India') & (df['Year'] == 1993)]['Value'].values[0]\n",
    "gdp_1994 = df[(df['Country Name'] == 'India') & (df['Year'] == 1994)]['Value'].values[0]\n",
    "\n",
    "# Calculate percentage growth\n",
    "growth_percent = ((gdp_1994 - gdp_1993) / gdp_1993) * 100\n",
    "\n",
    "print(f\"GDP Growth of India in 1994 compared to 1993: {growth_percent:.2f}%\")\n"
   ]
  },
  {
   "cell_type": "markdown",
   "id": "9c848bca",
   "metadata": {},
   "source": [
    "# Tasks\n",
    "\n",
    "### 1) Find GDP Growth of India from 1960 - 2016\n",
    "### 2) Create a new columns named as GDP which shows the GDP growth of each country for that year\n",
    "### 3) Create a graph of GDP Growth of India from 1960 - 2016"
   ]
  },
  {
   "cell_type": "code",
   "execution_count": 21,
   "id": "966abc03",
   "metadata": {},
   "outputs": [
    {
     "name": "stdout",
     "output_type": "stream",
     "text": [
      "      Year         Value  GDP_Growth\n",
      "6074  1960  3.653593e+10         NaN\n",
      "6075  1961  3.870910e+10    5.948039\n",
      "6076  1962  4.159907e+10    7.465879\n",
      "6077  1963  4.777600e+10   14.848723\n",
      "6078  1964  5.572687e+10   16.641979\n"
     ]
    }
   ],
   "source": [
    "# Task 1\n",
    "# Filter for India from 1960 to 2016\n",
    "india_df = df[(df['Country Name'] == 'India') & (df['Year'].between(1960, 2016))].copy()\n",
    "\n",
    "# Calculate year-over-year GDP growth (%)\n",
    "india_df['GDP_Growth'] = india_df['Value'].pct_change() * 100\n",
    "\n",
    "# Preview the result\n",
    "print(india_df[['Year', 'Value', 'GDP_Growth']].head())\n"
   ]
  },
  {
   "cell_type": "code",
   "execution_count": null,
   "id": "bfc0c592",
   "metadata": {},
   "outputs": [
    {
     "data": {
      "text/html": [
       "<div>\n",
       "<style scoped>\n",
       "    .dataframe tbody tr th:only-of-type {\n",
       "        vertical-align: middle;\n",
       "    }\n",
       "\n",
       "    .dataframe tbody tr th {\n",
       "        vertical-align: top;\n",
       "    }\n",
       "\n",
       "    .dataframe thead th {\n",
       "        text-align: right;\n",
       "    }\n",
       "</style>\n",
       "<table border=\"1\" class=\"dataframe\">\n",
       "  <thead>\n",
       "    <tr style=\"text-align: right;\">\n",
       "      <th></th>\n",
       "      <th>Country Name</th>\n",
       "      <th>Country Code</th>\n",
       "      <th>Year</th>\n",
       "      <th>Value</th>\n",
       "      <th>GDP</th>\n",
       "    </tr>\n",
       "  </thead>\n",
       "  <tbody>\n",
       "    <tr>\n",
       "      <th>2306</th>\n",
       "      <td>Afghanistan</td>\n",
       "      <td>AFG</td>\n",
       "      <td>1960</td>\n",
       "      <td>5.377778e+08</td>\n",
       "      <td>NaN</td>\n",
       "    </tr>\n",
       "    <tr>\n",
       "      <th>2307</th>\n",
       "      <td>Afghanistan</td>\n",
       "      <td>AFG</td>\n",
       "      <td>1961</td>\n",
       "      <td>5.488889e+08</td>\n",
       "      <td>2.066111</td>\n",
       "    </tr>\n",
       "    <tr>\n",
       "      <th>2308</th>\n",
       "      <td>Afghanistan</td>\n",
       "      <td>AFG</td>\n",
       "      <td>1962</td>\n",
       "      <td>5.466667e+08</td>\n",
       "      <td>-0.404857</td>\n",
       "    </tr>\n",
       "    <tr>\n",
       "      <th>2309</th>\n",
       "      <td>Afghanistan</td>\n",
       "      <td>AFG</td>\n",
       "      <td>1963</td>\n",
       "      <td>7.511112e+08</td>\n",
       "      <td>37.398386</td>\n",
       "    </tr>\n",
       "    <tr>\n",
       "      <th>2310</th>\n",
       "      <td>Afghanistan</td>\n",
       "      <td>AFG</td>\n",
       "      <td>1964</td>\n",
       "      <td>8.000000e+08</td>\n",
       "      <td>6.508870</td>\n",
       "    </tr>\n",
       "    <tr>\n",
       "      <th>...</th>\n",
       "      <td>...</td>\n",
       "      <td>...</td>\n",
       "      <td>...</td>\n",
       "      <td>...</td>\n",
       "      <td>...</td>\n",
       "    </tr>\n",
       "    <tr>\n",
       "      <th>2401</th>\n",
       "      <td>Algeria</td>\n",
       "      <td>DZA</td>\n",
       "      <td>1984</td>\n",
       "      <td>5.369828e+10</td>\n",
       "      <td>10.034368</td>\n",
       "    </tr>\n",
       "    <tr>\n",
       "      <th>2402</th>\n",
       "      <td>Algeria</td>\n",
       "      <td>DZA</td>\n",
       "      <td>1985</td>\n",
       "      <td>5.793787e+10</td>\n",
       "      <td>7.895206</td>\n",
       "    </tr>\n",
       "    <tr>\n",
       "      <th>2403</th>\n",
       "      <td>Algeria</td>\n",
       "      <td>DZA</td>\n",
       "      <td>1986</td>\n",
       "      <td>6.369630e+10</td>\n",
       "      <td>9.938980</td>\n",
       "    </tr>\n",
       "    <tr>\n",
       "      <th>2404</th>\n",
       "      <td>Algeria</td>\n",
       "      <td>DZA</td>\n",
       "      <td>1987</td>\n",
       "      <td>6.674227e+10</td>\n",
       "      <td>4.782014</td>\n",
       "    </tr>\n",
       "    <tr>\n",
       "      <th>2405</th>\n",
       "      <td>Algeria</td>\n",
       "      <td>DZA</td>\n",
       "      <td>1988</td>\n",
       "      <td>5.908907e+10</td>\n",
       "      <td>-11.466797</td>\n",
       "    </tr>\n",
       "  </tbody>\n",
       "</table>\n",
       "<p>100 rows × 5 columns</p>\n",
       "</div>"
      ],
      "text/plain": [
       "     Country Name Country Code  Year         Value        GDP\n",
       "2306  Afghanistan          AFG  1960  5.377778e+08        NaN\n",
       "2307  Afghanistan          AFG  1961  5.488889e+08   2.066111\n",
       "2308  Afghanistan          AFG  1962  5.466667e+08  -0.404857\n",
       "2309  Afghanistan          AFG  1963  7.511112e+08  37.398386\n",
       "2310  Afghanistan          AFG  1964  8.000000e+08   6.508870\n",
       "...           ...          ...   ...           ...        ...\n",
       "2401      Algeria          DZA  1984  5.369828e+10  10.034368\n",
       "2402      Algeria          DZA  1985  5.793787e+10   7.895206\n",
       "2403      Algeria          DZA  1986  6.369630e+10   9.938980\n",
       "2404      Algeria          DZA  1987  6.674227e+10   4.782014\n",
       "2405      Algeria          DZA  1988  5.908907e+10 -11.466797\n",
       "\n",
       "[100 rows x 5 columns]"
      ]
     },
     "execution_count": 23,
     "metadata": {},
     "output_type": "execute_result"
    }
   ],
   "source": [
    "#Task 2\n",
    "# Sort by country and year to ensure correct order\n",
    "df_sorted = df.sort_values(by=['Country Name', 'Year']).copy()\n",
    "\n",
    "# Calculate GDP growth (%) by group\n",
    "df_sorted['GDP'] = df_sorted.groupby('Country Name')['Value'].pct_change() * 100\n",
    "\n",
    "# Preview result\n",
    "df_sorted.head()\n"
   ]
  },
  {
   "cell_type": "code",
   "execution_count": 24,
   "id": "973bd9d4",
   "metadata": {},
   "outputs": [
    {
     "data": {
      "image/png": "[encoded data removed]",
      "text/plain": [
       "<Figure size 1200x600 with 1 Axes>"
      ]
     },
     "metadata": {},
     "output_type": "display_data"
    }
   ],
   "source": [
    "#Task 3\n",
    "import matplotlib.pyplot as plt\n",
    "\n",
    "plt.figure(figsize=(12,6))\n",
    "plt.plot(india_df['Year'], india_df['GDP_Growth'], marker='o', color='green')\n",
    "plt.title('India GDP Growth (1960 - 2016)')\n",
    "plt.xlabel('Year')\n",
    "plt.ylabel('GDP Growth (%)')\n",
    "plt.grid(True)\n",
    "plt.tight_layout()\n",
    "plt.show()\n"
   ]
  }
 ],
 "metadata": {
  "kernelspec": {
   "display_name": "Python 3",
   "language": "python",
   "name": "python3"
  },
  "language_info": {
   "codemirror_mode": {
    "name": "ipython",
    "version": 3
   },
   "file_extension": ".py",
   "mimetype": "text/x-python",
   "name": "python",
   "nbconvert_exporter": "python",
   "pygments_lexer": "ipython3",
   "version": "3.13.3"
  }
 },
 "nbformat": 4,
 "nbformat_minor": 5
}
